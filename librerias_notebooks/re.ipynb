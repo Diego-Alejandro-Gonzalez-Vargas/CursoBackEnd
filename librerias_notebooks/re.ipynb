{
 "cells": [
  {
   "cell_type": "code",
   "execution_count": 1,
   "id": "fc8cadfb",
   "metadata": {},
   "outputs": [
    {
     "name": "stdout",
     "output_type": "stream",
     "text": [
      "123\n"
     ]
    }
   ],
   "source": [
    "import re\n",
    "\n",
    "texto = \"123abc\"\n",
    "coincide = re.match(r'\\d+', texto)   # \\d+ significa \"uno o más dígitos\"\n",
    "if coincide:\n",
    "    print(coincide.group())"
   ]
  },
  {
   "cell_type": "code",
   "execution_count": 2,
   "id": "0a89bffb",
   "metadata": {},
   "outputs": [
    {
     "name": "stdout",
     "output_type": "stream",
     "text": [
      "['Hola', 'mundo', 'esto', 'es', 'Python', '3', '12']\n"
     ]
    }
   ],
   "source": [
    "frase = \"Hola mundo, esto es Python 3.12\"\n",
    "palabras = re.findall(r'\\w+', frase)  # \\w+ captura \"palabras\"\n",
    "print(palabras)  # ['Hola', 'mundo', 'esto', 'es', 'Python', '3', '12']"
   ]
  },
  {
   "cell_type": "code",
   "execution_count": 5,
   "id": "d250ba63",
   "metadata": {},
   "outputs": [
    {
     "name": "stdout",
     "output_type": "stream",
     "text": [
      "Mi teléfono es X-X-X\n"
     ]
    }
   ],
   "source": [
    "texto = \"Mi teléfono es 300-123-4567\"\n",
    "nuevo = re.sub(r'\\d+', \"X\", texto)   # Reemplaza todos los dígitos por X\n",
    "print(nuevo)  # Mi teléfono es XXX-XXX-XXXX"
   ]
  }
 ],
 "metadata": {
  "kernelspec": {
   "display_name": "Python 3",
   "language": "python",
   "name": "python3"
  },
  "language_info": {
   "codemirror_mode": {
    "name": "ipython",
    "version": 3
   },
   "file_extension": ".py",
   "mimetype": "text/x-python",
   "name": "python",
   "nbconvert_exporter": "python",
   "pygments_lexer": "ipython3",
   "version": "3.10.13"
  }
 },
 "nbformat": 4,
 "nbformat_minor": 5
}
