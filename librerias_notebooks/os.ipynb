{
 "cells": [
  {
   "cell_type": "code",
   "execution_count": 7,
   "id": "96713dad",
   "metadata": {},
   "outputs": [
    {
     "name": "stdout",
     "output_type": "stream",
     "text": [
      "c:\\Users\\Diego\\misCosas\\clases\\codigo\\clase5\n"
     ]
    }
   ],
   "source": [
    "import os\n",
    "print(os.getcwd())"
   ]
  },
  {
   "cell_type": "code",
   "execution_count": 8,
   "id": "a2ba2d53",
   "metadata": {},
   "outputs": [],
   "source": [
    "os.mkdir(\"nueva_carpeta\")      # Crear carpeta\n",
    "      # Eliminar carpeta vacía\n"
   ]
  },
  {
   "cell_type": "code",
   "execution_count": 9,
   "id": "e3cca6a7",
   "metadata": {},
   "outputs": [],
   "source": [
    "os.rmdir(\"nueva_carpeta\")"
   ]
  },
  {
   "cell_type": "code",
   "execution_count": 10,
   "id": "3950ab9d",
   "metadata": {},
   "outputs": [
    {
     "name": "stdout",
     "output_type": "stream",
     "text": [
      "['calculadora', 'datetime.ipynb', 'json.ipynb', 'math.ipynb', 'name', 'os.ipynb', 'paquete', 'random.ipynb', 're.ipynb']\n"
     ]
    }
   ],
   "source": [
    "archivos = os.listdir(\".\")   # Lista archivos en el directorio actual\n",
    "print(archivos)"
   ]
  },
  {
   "cell_type": "code",
   "execution_count": 6,
   "id": "f89145cb",
   "metadata": {},
   "outputs": [
    {
     "name": "stdout",
     "output_type": "stream",
     "text": [
      "carpeta\\archivo.txt\n"
     ]
    }
   ],
   "source": [
    "ruta = os.path.join(\"carpeta\", \"archivo.txt\")\n",
    "print(ruta)  # carpeta/archivo.txt (ajustado al sistema)"
   ]
  }
 ],
 "metadata": {
  "kernelspec": {
   "display_name": "Python 3",
   "language": "python",
   "name": "python3"
  },
  "language_info": {
   "codemirror_mode": {
    "name": "ipython",
    "version": 3
   },
   "file_extension": ".py",
   "mimetype": "text/x-python",
   "name": "python",
   "nbconvert_exporter": "python",
   "pygments_lexer": "ipython3",
   "version": "3.10.13"
  }
 },
 "nbformat": 4,
 "nbformat_minor": 5
}
