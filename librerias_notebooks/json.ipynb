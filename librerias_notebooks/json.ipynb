{
 "cells": [
  {
   "cell_type": "markdown",
   "id": "cb85efcd",
   "metadata": {},
   "source": [
    "## Ejemplo 1: Convertir un diccionario a JSON (serialización)"
   ]
  },
  {
   "cell_type": "code",
   "execution_count": 8,
   "id": "7ae2db2f",
   "metadata": {},
   "outputs": [
    {
     "name": "stdout",
     "output_type": "stream",
     "text": [
      "{\"nombre\": \"Ana\", \"edad\": 25}\n"
     ]
    }
   ],
   "source": [
    "import json\n",
    "\n",
    "datos = {\"nombre\": \"Ana\", \"edad\": 25}\n",
    "json_str = json.dumps(datos)   # Convierte a cadena JSON\n",
    "print(json_str)  "
   ]
  },
  {
   "cell_type": "markdown",
   "id": "eef2dcd8",
   "metadata": {},
   "source": [
    "## Ejemplo 2: Leer JSON desde un string (deserialización)"
   ]
  },
  {
   "cell_type": "code",
   "execution_count": 10,
   "id": "1aa33c21",
   "metadata": {},
   "outputs": [
    {
     "name": "stdout",
     "output_type": "stream",
     "text": [
      "Carlos\n"
     ]
    }
   ],
   "source": [
    "json_str = '{\"nombre\": \"Carlos\", \"edad\": 30}'\n",
    "persona = json.loads(json_str)  # Convierte a diccionario de Python\n",
    "print(persona[\"nombre\"]) "
   ]
  },
  {
   "cell_type": "code",
   "execution_count": 9,
   "id": "cf1fe1ac",
   "metadata": {},
   "outputs": [],
   "source": [
    "with open(\"persona.json\", \"w\") as f:\n",
    "    json.dump(datos, f)"
   ]
  },
  {
   "cell_type": "code",
   "execution_count": 12,
   "id": "6325285b",
   "metadata": {},
   "outputs": [
    {
     "name": "stdout",
     "output_type": "stream",
     "text": [
      "{'nombre': 'Ana', 'edad': 25}\n"
     ]
    }
   ],
   "source": [
    "with open(\"C:/Users/Diego/misCosas/clases/codigo/clase5/persona.json\", \"r\") as f:\n",
    "    persona = json.load(f)\n",
    "print(persona)"
   ]
  }
 ],
 "metadata": {
  "kernelspec": {
   "display_name": "Python 3",
   "language": "python",
   "name": "python3"
  },
  "language_info": {
   "codemirror_mode": {
    "name": "ipython",
    "version": 3
   },
   "file_extension": ".py",
   "mimetype": "text/x-python",
   "name": "python",
   "nbconvert_exporter": "python",
   "pygments_lexer": "ipython3",
   "version": "3.10.13"
  }
 },
 "nbformat": 4,
 "nbformat_minor": 5
}
