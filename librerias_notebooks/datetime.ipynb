{
 "cells": [
  {
   "cell_type": "code",
   "execution_count": 4,
   "id": "34ecb48a",
   "metadata": {},
   "outputs": [
    {
     "name": "stdout",
     "output_type": "stream",
     "text": [
      "2025-09-12 18:15:26.994053\n"
     ]
    }
   ],
   "source": [
    "from datetime import datetime, timedelta\n",
    "# Fecha y hora actual\n",
    "ahora = datetime.now()\n",
    "print(ahora) # 2023-10-25 15:30:45.123456\n"
   ]
  },
  {
   "cell_type": "code",
   "execution_count": 5,
   "id": "751d8de4",
   "metadata": {},
   "outputs": [
    {
     "name": "stdout",
     "output_type": "stream",
     "text": [
      "2025-09-13 18:15:26.994053\n"
     ]
    }
   ],
   "source": [
    "# Operaciones con fechas\n",
    "mañana = ahora + timedelta(days=1)\n",
    "print(mañana)\n"
   ]
  },
  {
   "cell_type": "code",
   "execution_count": 3,
   "id": "b1611d90",
   "metadata": {},
   "outputs": [
    {
     "name": "stdout",
     "output_type": "stream",
     "text": [
      "12/09/2025 17:57\n"
     ]
    }
   ],
   "source": [
    "# Formateo de fechas\n",
    "print(ahora.strftime(\"%d/%m/%Y %H:%M\"))"
   ]
  }
 ],
 "metadata": {
  "kernelspec": {
   "display_name": "Python 3",
   "language": "python",
   "name": "python3"
  },
  "language_info": {
   "codemirror_mode": {
    "name": "ipython",
    "version": 3
   },
   "file_extension": ".py",
   "mimetype": "text/x-python",
   "name": "python",
   "nbconvert_exporter": "python",
   "pygments_lexer": "ipython3",
   "version": "3.10.13"
  }
 },
 "nbformat": 4,
 "nbformat_minor": 5
}
